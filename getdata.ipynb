{
 "cells": [
  {
   "cell_type": "code",
   "execution_count": 27,
   "metadata": {},
   "outputs": [],
   "source": [
    "from selenium import webdriver\n",
    "from selenium.webdriver.common.keys import Keys\n",
    "from selenium.webdriver.common.by import By\n",
    "from selenium.webdriver.chrome.options import Options\n",
    "from selenium.webdriver.support.ui import WebDriverWait\n",
    "from selenium.webdriver.support import expected_conditions as EC\n",
    "options = Options()\n",
    "\n",
    "options.add_argument(\"--disable-gpu\")\n",
    "# options.add_argument(\"--headless\")\n",
    "options.add_argument(\"--no-sandbox\")\n",
    "options.add_argument(\"--disable-dev-shm-usage\")\n",
    "options.add_argument(\"--disable-extensions\")\n",
    "options.add_argument(\"--disable-software-rasterizer\")\n",
    "# Enable automation features to make the browser look more like a real user\n",
    "options.add_experimental_option('excludeSwitches', ['enable-automation'])\n",
    "options.add_experimental_option('useAutomationExtension', False)\n",
    "options.add_argument(\"--disable-blink-features=AutomationControlled\")\n",
    "driver = webdriver.Chrome(options=options)\n",
    "       "
   ]
  },
  {
   "cell_type": "code",
   "execution_count": 28,
   "metadata": {},
   "outputs": [],
   "source": [
    "from datetime import datetime\n",
    "import time\n",
    "import pandas as pd"
   ]
  },
  {
   "cell_type": "code",
   "execution_count": 29,
   "metadata": {},
   "outputs": [],
   "source": [
    "\n",
    "query = \"zamzie\"\n",
    "active_status = \"all\"\n",
    "countary = \"NL\"\n",
    "media_type = \"all\"\n",
    "url = f\"https://www.facebook.com/ads/library/?active_status={query}&ad_type=all&country={countary}&q={query}&search_type=keyword_unordered&media_type={media_type}\"\n",
    "\n",
    "driver.get(url)\n",
    "driver.maximize_window()"
   ]
  },
  {
   "cell_type": "code",
   "execution_count": 176,
   "metadata": {},
   "outputs": [],
   "source": [
    "allads = driver.find_elements(By.XPATH, \"//div[contains(text(), 'details')]\")"
   ]
  },
  {
   "cell_type": "code",
   "execution_count": 177,
   "metadata": {},
   "outputs": [
    {
     "name": "stdout",
     "output_type": "stream",
     "text": [
      "90\n"
     ]
    }
   ],
   "source": [
    "print(len(allads))\n",
    "# driver.save_screenshot(\"screenshot.png\")"
   ]
  },
  {
   "cell_type": "code",
   "execution_count": 45,
   "metadata": {},
   "outputs": [],
   "source": []
  },
  {
   "cell_type": "code",
   "execution_count": 115,
   "metadata": {},
   "outputs": [],
   "source": [
    "allads[2].click()\n"
   ]
  },
  {
   "cell_type": "code",
   "execution_count": 11,
   "metadata": {},
   "outputs": [],
   "source": []
  },
  {
   "cell_type": "code",
   "execution_count": null,
   "metadata": {},
   "outputs": [],
   "source": []
  },
  {
   "cell_type": "code",
   "execution_count": 116,
   "metadata": {},
   "outputs": [
    {
     "name": "stdout",
     "output_type": "stream",
     "text": [
      "https://www.facebook.com/109048418284827\n",
      "239\n",
      "441283901718356\n",
      "https://www.facebook.com/ads/library/?id=441283901718356\n",
      "Inactive\n",
      "2024-04-24 00:00:00\n",
      "2024-04-25 00:00:00\n",
      "1\n",
      "This ad has multiple versions\n",
      "https://www.facebook.com/109048418284827\n",
      "3.2K likes\n",
      "3.2K\n"
     ]
    }
   ],
   "source": [
    "ad_details = driver.find_elements(By.XPATH, \"//div[@data-visualcompletion='ignore']//div//div[@role='dialog']//div[@class='x3nfvp2 x1e56ztr']\")\n",
    "adArchiveID  = ad_details[0].text.split(\":\")[1].strip()\n",
    "adUrl = f\"https://www.facebook.com/ads/library/?id={adArchiveID}\"\n",
    "ad_status_type = ad_details[1].text\n",
    "duplicate = ad_details[4].text\n",
    "if \"inactive\" in ad_status_type.lower():\n",
    "    date_range = ad_details[2].text\n",
    "    start_date_str, end_date_str = date_range.split('-')\n",
    "    \n",
    "    start_date = datetime.strptime(start_date_str.strip(), \"%d %b %Y\")\n",
    "    end_date = datetime.strptime(end_date_str.strip(), \"%d %b %Y\")\n",
    "else:\n",
    "    start_date = ad_details[2].text\n",
    "    start_date  = \" \".join(start_date .split()[3:])  # Extract the date part from the string\n",
    "    start_date  = datetime.strptime(start_date ,\"%d %b %Y\")  # Parse the date\n",
    "    end_date = None\n",
    "\n",
    "if end_date is not None:\n",
    "    numberOfActiveDay = (end_date - start_date).days\n",
    "else:\n",
    "    numberOfActiveDay = (datetime.now() - start_date).days\n",
    "    \n",
    "driver.find_element(By.XPATH, \"//div[@data-visualcompletion='ignore']//div//div[@role='dialog']//div[contains(text(),'European Union transparency')]\").click()\n",
    "totalreach = driver.find_element(By.XPATH, \"(//div[@class='x8t9es0 x10d9sdx xo1l8bm xrohxju x108nfp6 xq9mrsl x1h4wwuj xeuugli'])[3]\")\n",
    "driver.execute_script(\"arguments[0].scrollIntoView();\", totalreach)\n",
    "totalreach = totalreach.text\n",
    "driver.find_element(By.XPATH, \"//div[@data-visualcompletion='ignore']//div//div[@role='dialog']//div[contains(text(),'About the advertiser')]\").click()\n",
    "pageProfileUrl = driver.find_element(By.XPATH, \"//div[contains(text(), 'ID')]\").text\n",
    "pageProfileUrl = \"https://www.facebook.com/\"+pageProfileUrl.split(\":\")[1].strip()\n",
    "print(pageProfileUrl)\n",
    "currentpageLike, followers , pageName =  get_like_follow(pageProfileUrl)\n",
    "\n",
    "dscription = driver.find_element(By.XPATH, \"//div[@data-visualcompletion='ignore']//div//div[@role='dialog']//div[@style='white-space: pre-wrap;']/span\").text.strip()\n",
    "CallToActionButton = driver.find_element(By.XPATH, \"(//div[@data-visualcompletion='ignore']//div//div[@role='dialog']//div[@style='grid-area: adCardColumn;']//div[@aria-busy='false'])[2]\")\n",
    "print(dscription)\n",
    "print(CallToActionButton.text)\n",
    "print(linkurl)\n",
    "print(totalreach)\n",
    "print(adArchiveID)\n",
    "print(adUrl)\n",
    "print(ad_status_type)\n",
    "print(start_date)\n",
    "print(end_date)\n",
    "print(numberOfActiveDay)\n",
    "print(duplicate)\n",
    "print(pageProfileUrl)\n",
    "print(currentpageLike)\n",
    "print(followers)\n",
    "\n",
    "\n"
   ]
  },
  {
   "cell_type": "code",
   "execution_count": 5,
   "metadata": {},
   "outputs": [],
   "source": [
    "import random\n",
    "def randDealy(min, max):\n",
    "    time.sleep(random.randint(min, max))"
   ]
  },
  {
   "cell_type": "code",
   "execution_count": 31,
   "metadata": {},
   "outputs": [
    {
     "name": "stdout",
     "output_type": "stream",
     "text": [
      "{'adArchiveID': '865962951961390', 'page_name': 'zamzie.com', 'adUrl': 'https://www.facebook.com/ads/library/?id=865962951961390', 'ad_status_type': 'Inactive', 'start_date': datetime.datetime(2024, 4, 24, 0, 0), 'end_date': datetime.datetime(2024, 4, 25, 0, 0), 'numberOfActiveDay': 1, 'totalreach': '46', 'pageProfileUrl': 'https://www.facebook.com/109048418284827', 'product_url': 'https://l.facebook.com/l.php?u=https%3A%2F%2Fzamzie.com%2Fproducts%2Felvi-vest&h=AT24rgBNAfvnQaF571PJj3eacllnc4VX8qHjKUzTaVrewECOUFCybkXNvgoj5QfGVaamRilQnBFbILp7mxx7d-qAbam7YM8KDEO6sjCsVwE0ig-1uZX-19AwaL379G5uDQLghYx6ylbUvq3W7UjZ_SwFnkPO74xcFZUSzI7asFk', 'currentpageLike': '3.2K likes', 'followers': '3.2K', 'dscription': 'Toen ik dit vest zag, heb ik die meteen besteld.😁🤩\\nNu Met 50% Korting:\\nhttps://zamzie.com/products/elvi-vest', 'CallToActionButton': 'Shop Now', 'duplicate': 'This ad has multiple versions'}\n"
     ]
    },
    {
     "ename": "NoSuchWindowException",
     "evalue": "Message: no such window: target window already closed\nfrom unknown error: web view not found\n  (Session info: chrome=124.0.6367.158)\nStacktrace:\n0   chromedriver                        0x0000000102c26998 chromedriver + 4368792\n1   chromedriver                        0x0000000102c1ee2c chromedriver + 4337196\n2   chromedriver                        0x0000000102842c04 chromedriver + 289796\n3   chromedriver                        0x000000010281d918 chromedriver + 137496\n4   chromedriver                        0x00000001028a9ab8 chromedriver + 711352\n5   chromedriver                        0x00000001028bcd08 chromedriver + 789768\n6   chromedriver                        0x0000000102879ab4 chromedriver + 514740\n7   chromedriver                        0x000000010287a50c chromedriver + 517388\n8   chromedriver                        0x0000000102beaeb4 chromedriver + 4124340\n9   chromedriver                        0x0000000102befca4 chromedriver + 4144292\n10  chromedriver                        0x0000000102bd087c chromedriver + 4016252\n11  chromedriver                        0x0000000102bf05d4 chromedriver + 4146644\n12  chromedriver                        0x0000000102bc2330 chromedriver + 3957552\n13  chromedriver                        0x0000000102c0ff1c chromedriver + 4275996\n14  chromedriver                        0x0000000102c10098 chromedriver + 4276376\n15  chromedriver                        0x0000000102c1ea8c chromedriver + 4336268\n16  libsystem_pthread.dylib             0x0000000192432f94 _pthread_start + 136\n17  libsystem_pthread.dylib             0x000000019242dd34 thread_start + 8\n",
     "output_type": "error",
     "traceback": [
      "\u001b[0;31m---------------------------------------------------------------------------\u001b[0m",
      "\u001b[0;31mNoSuchWindowException\u001b[0m                     Traceback (most recent call last)",
      "Cell \u001b[0;32mIn[31], line 52\u001b[0m\n\u001b[1;32m     50\u001b[0m pageProfileUrl \u001b[38;5;241m=\u001b[39m WebDriverWait(driver, \u001b[38;5;241m10\u001b[39m)\u001b[38;5;241m.\u001b[39muntil(EC\u001b[38;5;241m.\u001b[39mpresence_of_element_located((By\u001b[38;5;241m.\u001b[39mXPATH,\u001b[38;5;124m\"\u001b[39m\u001b[38;5;124m*//div[@data-visualcompletion=\u001b[39m\u001b[38;5;124m'\u001b[39m\u001b[38;5;124mignore\u001b[39m\u001b[38;5;124m'\u001b[39m\u001b[38;5;124m]//div//div[@role=\u001b[39m\u001b[38;5;124m'\u001b[39m\u001b[38;5;124mdialog\u001b[39m\u001b[38;5;124m'\u001b[39m\u001b[38;5;124m]//div[contains(text(), \u001b[39m\u001b[38;5;124m'\u001b[39m\u001b[38;5;124mID\u001b[39m\u001b[38;5;124m'\u001b[39m\u001b[38;5;124m)]\u001b[39m\u001b[38;5;124m\"\u001b[39m )))\u001b[38;5;241m.\u001b[39mtext\n\u001b[1;32m     51\u001b[0m pageProfileUrl \u001b[38;5;241m=\u001b[39m \u001b[38;5;124m\"\u001b[39m\u001b[38;5;124mhttps://www.facebook.com/\u001b[39m\u001b[38;5;124m\"\u001b[39m\u001b[38;5;241m+\u001b[39mpageProfileUrl\u001b[38;5;241m.\u001b[39msplit(\u001b[38;5;124m\"\u001b[39m\u001b[38;5;124m:\u001b[39m\u001b[38;5;124m\"\u001b[39m)[\u001b[38;5;241m1\u001b[39m]\u001b[38;5;241m.\u001b[39mstrip()\n\u001b[0;32m---> 52\u001b[0m currentpageLike, followers , pageName \u001b[38;5;241m=\u001b[39m  \u001b[43mget_like_follow\u001b[49m\u001b[43m(\u001b[49m\u001b[43mpageProfileUrl\u001b[49m\u001b[43m)\u001b[49m\n\u001b[1;32m     53\u001b[0m \u001b[38;5;28;01mtry\u001b[39;00m:\n\u001b[1;32m     54\u001b[0m     dscription \u001b[38;5;241m=\u001b[39m  WebDriverWait(driver, \u001b[38;5;241m10\u001b[39m)\u001b[38;5;241m.\u001b[39muntil(EC\u001b[38;5;241m.\u001b[39mpresence_of_element_located((By\u001b[38;5;241m.\u001b[39mXPATH, \u001b[38;5;124m\"\u001b[39m\u001b[38;5;124m//div[@data-visualcompletion=\u001b[39m\u001b[38;5;124m'\u001b[39m\u001b[38;5;124mignore\u001b[39m\u001b[38;5;124m'\u001b[39m\u001b[38;5;124m]//div//div[@role=\u001b[39m\u001b[38;5;124m'\u001b[39m\u001b[38;5;124mdialog\u001b[39m\u001b[38;5;124m'\u001b[39m\u001b[38;5;124m]//div[@class=\u001b[39m\u001b[38;5;124m'\u001b[39m\u001b[38;5;124m_7jyg _7jyi\u001b[39m\u001b[38;5;124m'\u001b[39m\u001b[38;5;124m]//div[@class=\u001b[39m\u001b[38;5;124m'\u001b[39m\u001b[38;5;124m_7jyr\u001b[39m\u001b[38;5;124m'\u001b[39m\u001b[38;5;124m]\u001b[39m\u001b[38;5;124m\"\u001b[39m)))\u001b[38;5;241m.\u001b[39mtext\u001b[38;5;241m.\u001b[39mstrip()\n",
      "Cell \u001b[0;32mIn[26], line 6\u001b[0m, in \u001b[0;36mget_like_follow\u001b[0;34m(pageProfileUrl)\u001b[0m\n\u001b[1;32m      4\u001b[0m driver\u001b[38;5;241m.\u001b[39mget(pageProfileUrl)\n\u001b[1;32m      5\u001b[0m randDealy(\u001b[38;5;241m3\u001b[39m, \u001b[38;5;241m5\u001b[39m)\n\u001b[0;32m----> 6\u001b[0m \u001b[43mdriver\u001b[49m\u001b[38;5;241;43m.\u001b[39;49m\u001b[43mfind_element\u001b[49m\u001b[43m(\u001b[49m\u001b[43mBy\u001b[49m\u001b[38;5;241;43m.\u001b[39;49m\u001b[43mXPATH\u001b[49m\u001b[43m,\u001b[49m\u001b[43m \u001b[49m\u001b[38;5;124;43m\"\u001b[39;49m\u001b[38;5;124;43m//div[@aria-label=\u001b[39;49m\u001b[38;5;124;43m'\u001b[39;49m\u001b[38;5;124;43mClose\u001b[39;49m\u001b[38;5;124;43m'\u001b[39;49m\u001b[38;5;124;43m]//i[@data-visualcompletion=\u001b[39;49m\u001b[38;5;124;43m'\u001b[39;49m\u001b[38;5;124;43mcss-img\u001b[39;49m\u001b[38;5;124;43m'\u001b[39;49m\u001b[38;5;124;43m]\u001b[39;49m\u001b[38;5;124;43m\"\u001b[39;49m\u001b[43m)\u001b[49m\u001b[38;5;241m.\u001b[39mclick()\n\u001b[1;32m      7\u001b[0m likes_element \u001b[38;5;241m=\u001b[39m driver\u001b[38;5;241m.\u001b[39mfind_element(By\u001b[38;5;241m.\u001b[39mXPATH ,\u001b[38;5;124m\"\u001b[39m\u001b[38;5;124m//a[contains(@href, \u001b[39m\u001b[38;5;124m'\u001b[39m\u001b[38;5;124mfriends_likes\u001b[39m\u001b[38;5;124m'\u001b[39m\u001b[38;5;124m)]\u001b[39m\u001b[38;5;124m\"\u001b[39m)\n\u001b[1;32m      8\u001b[0m likes \u001b[38;5;241m=\u001b[39m likes_element\u001b[38;5;241m.\u001b[39mtext\n",
      "File \u001b[0;32m/Library/Frameworks/Python.framework/Versions/3.12/lib/python3.12/site-packages/selenium/webdriver/remote/webdriver.py:741\u001b[0m, in \u001b[0;36mWebDriver.find_element\u001b[0;34m(self, by, value)\u001b[0m\n\u001b[1;32m    738\u001b[0m     by \u001b[38;5;241m=\u001b[39m By\u001b[38;5;241m.\u001b[39mCSS_SELECTOR\n\u001b[1;32m    739\u001b[0m     value \u001b[38;5;241m=\u001b[39m \u001b[38;5;124mf\u001b[39m\u001b[38;5;124m'\u001b[39m\u001b[38;5;124m[name=\u001b[39m\u001b[38;5;124m\"\u001b[39m\u001b[38;5;132;01m{\u001b[39;00mvalue\u001b[38;5;132;01m}\u001b[39;00m\u001b[38;5;124m\"\u001b[39m\u001b[38;5;124m]\u001b[39m\u001b[38;5;124m'\u001b[39m\n\u001b[0;32m--> 741\u001b[0m \u001b[38;5;28;01mreturn\u001b[39;00m \u001b[38;5;28;43mself\u001b[39;49m\u001b[38;5;241;43m.\u001b[39;49m\u001b[43mexecute\u001b[49m\u001b[43m(\u001b[49m\u001b[43mCommand\u001b[49m\u001b[38;5;241;43m.\u001b[39;49m\u001b[43mFIND_ELEMENT\u001b[49m\u001b[43m,\u001b[49m\u001b[43m \u001b[49m\u001b[43m{\u001b[49m\u001b[38;5;124;43m\"\u001b[39;49m\u001b[38;5;124;43musing\u001b[39;49m\u001b[38;5;124;43m\"\u001b[39;49m\u001b[43m:\u001b[49m\u001b[43m \u001b[49m\u001b[43mby\u001b[49m\u001b[43m,\u001b[49m\u001b[43m \u001b[49m\u001b[38;5;124;43m\"\u001b[39;49m\u001b[38;5;124;43mvalue\u001b[39;49m\u001b[38;5;124;43m\"\u001b[39;49m\u001b[43m:\u001b[49m\u001b[43m \u001b[49m\u001b[43mvalue\u001b[49m\u001b[43m}\u001b[49m\u001b[43m)\u001b[49m[\u001b[38;5;124m\"\u001b[39m\u001b[38;5;124mvalue\u001b[39m\u001b[38;5;124m\"\u001b[39m]\n",
      "File \u001b[0;32m/Library/Frameworks/Python.framework/Versions/3.12/lib/python3.12/site-packages/selenium/webdriver/remote/webdriver.py:347\u001b[0m, in \u001b[0;36mWebDriver.execute\u001b[0;34m(self, driver_command, params)\u001b[0m\n\u001b[1;32m    345\u001b[0m response \u001b[38;5;241m=\u001b[39m \u001b[38;5;28mself\u001b[39m\u001b[38;5;241m.\u001b[39mcommand_executor\u001b[38;5;241m.\u001b[39mexecute(driver_command, params)\n\u001b[1;32m    346\u001b[0m \u001b[38;5;28;01mif\u001b[39;00m response:\n\u001b[0;32m--> 347\u001b[0m     \u001b[38;5;28;43mself\u001b[39;49m\u001b[38;5;241;43m.\u001b[39;49m\u001b[43merror_handler\u001b[49m\u001b[38;5;241;43m.\u001b[39;49m\u001b[43mcheck_response\u001b[49m\u001b[43m(\u001b[49m\u001b[43mresponse\u001b[49m\u001b[43m)\u001b[49m\n\u001b[1;32m    348\u001b[0m     response[\u001b[38;5;124m\"\u001b[39m\u001b[38;5;124mvalue\u001b[39m\u001b[38;5;124m\"\u001b[39m] \u001b[38;5;241m=\u001b[39m \u001b[38;5;28mself\u001b[39m\u001b[38;5;241m.\u001b[39m_unwrap_value(response\u001b[38;5;241m.\u001b[39mget(\u001b[38;5;124m\"\u001b[39m\u001b[38;5;124mvalue\u001b[39m\u001b[38;5;124m\"\u001b[39m, \u001b[38;5;28;01mNone\u001b[39;00m))\n\u001b[1;32m    349\u001b[0m     \u001b[38;5;28;01mreturn\u001b[39;00m response\n",
      "File \u001b[0;32m/Library/Frameworks/Python.framework/Versions/3.12/lib/python3.12/site-packages/selenium/webdriver/remote/errorhandler.py:229\u001b[0m, in \u001b[0;36mErrorHandler.check_response\u001b[0;34m(self, response)\u001b[0m\n\u001b[1;32m    227\u001b[0m         alert_text \u001b[38;5;241m=\u001b[39m value[\u001b[38;5;124m\"\u001b[39m\u001b[38;5;124malert\u001b[39m\u001b[38;5;124m\"\u001b[39m]\u001b[38;5;241m.\u001b[39mget(\u001b[38;5;124m\"\u001b[39m\u001b[38;5;124mtext\u001b[39m\u001b[38;5;124m\"\u001b[39m)\n\u001b[1;32m    228\u001b[0m     \u001b[38;5;28;01mraise\u001b[39;00m exception_class(message, screen, stacktrace, alert_text)  \u001b[38;5;66;03m# type: ignore[call-arg]  # mypy is not smart enough here\u001b[39;00m\n\u001b[0;32m--> 229\u001b[0m \u001b[38;5;28;01mraise\u001b[39;00m exception_class(message, screen, stacktrace)\n",
      "\u001b[0;31mNoSuchWindowException\u001b[0m: Message: no such window: target window already closed\nfrom unknown error: web view not found\n  (Session info: chrome=124.0.6367.158)\nStacktrace:\n0   chromedriver                        0x0000000102c26998 chromedriver + 4368792\n1   chromedriver                        0x0000000102c1ee2c chromedriver + 4337196\n2   chromedriver                        0x0000000102842c04 chromedriver + 289796\n3   chromedriver                        0x000000010281d918 chromedriver + 137496\n4   chromedriver                        0x00000001028a9ab8 chromedriver + 711352\n5   chromedriver                        0x00000001028bcd08 chromedriver + 789768\n6   chromedriver                        0x0000000102879ab4 chromedriver + 514740\n7   chromedriver                        0x000000010287a50c chromedriver + 517388\n8   chromedriver                        0x0000000102beaeb4 chromedriver + 4124340\n9   chromedriver                        0x0000000102befca4 chromedriver + 4144292\n10  chromedriver                        0x0000000102bd087c chromedriver + 4016252\n11  chromedriver                        0x0000000102bf05d4 chromedriver + 4146644\n12  chromedriver                        0x0000000102bc2330 chromedriver + 3957552\n13  chromedriver                        0x0000000102c0ff1c chromedriver + 4275996\n14  chromedriver                        0x0000000102c10098 chromedriver + 4276376\n15  chromedriver                        0x0000000102c1ea8c chromedriver + 4336268\n16  libsystem_pthread.dylib             0x0000000192432f94 _pthread_start + 136\n17  libsystem_pthread.dylib             0x000000019242dd34 thread_start + 8\n"
     ]
    }
   ],
   "source": [
    "\n",
    "allads = driver.find_elements(By.XPATH, \"//div[contains(text(), 'details')]\")\n",
    "AddList = []\n",
    "for ad  in allads:\n",
    "    try:\n",
    "        ad.click()\n",
    "    except:\n",
    "        continue\n",
    "    try:\n",
    "        WebDriverWait(driver, 10).until(EC.presence_of_all_elements_located((By.XPATH, \"//button[contains(text(), 'versions')]\")))\n",
    "        driver.find_element(By.XPATH, \"//body/div[@data-visualcompletion='ignore']/div/div[@data-visualcompletion='ignore']/div/div[@role='dialog']/div/div/div/div/span/div[1]\").click()\n",
    "        continue\n",
    "    except:\n",
    "        pass\n",
    "\n",
    "    ad_details = WebDriverWait(driver, 10).until(EC.presence_of_all_elements_located((By.XPATH, \"//div[@data-visualcompletion='ignore']//div//div[@role='dialog']//div[@class='x3nfvp2 x1e56ztr']\")))\n",
    "\n",
    "    adArchiveID  = ad_details[0].text.split(\":\")[1].strip()\n",
    "    adUrl = f\"https://www.facebook.com/ads/library/?id={adArchiveID}\"\n",
    "    ad_status_type = ad_details[1].text\n",
    "    try:\n",
    "        duplicate = ad_details[4].text\n",
    "    except:\n",
    "        duplicate = None\n",
    "    if \"inactive\" in ad_status_type.lower():\n",
    "        date_range = ad_details[2].text\n",
    "        start_date_str, end_date_str = date_range.split('-')\n",
    "        start_date = datetime.strptime(start_date_str.strip(), \"%d %b %Y\")\n",
    "        end_date = datetime.strptime(end_date_str.strip(), \"%d %b %Y\")\n",
    "    else:\n",
    "        start_date = ad_details[2].text\n",
    "        start_date  = \" \".join(start_date .split()[3:])  # Extract the date part from the string\n",
    "        start_date  = datetime.strptime(start_date ,\"%d %b %Y\")  # Parse the date\n",
    "        end_date = None\n",
    "\n",
    "    if end_date is not None:\n",
    "        numberOfActiveDay = (end_date - start_date).days\n",
    "    else:\n",
    "        numberOfActiveDay = (datetime.now() - start_date).days\n",
    "    WebDriverWait(driver, 10).until(EC.presence_of_element_located((By.XPATH, \"//div[@data-visualcompletion='ignore']//div//div[@role='dialog']//div[contains(text(),'European Union transparency')]\"))).click()\n",
    "\n",
    "    \n",
    "    totalreach = WebDriverWait(driver, 10).until(EC.presence_of_element_located((By.XPATH, \"(//div[@class='x8t9es0 x10d9sdx xo1l8bm xrohxju x108nfp6 xq9mrsl x1h4wwuj xeuugli'])[3]\")))\n",
    "\n",
    "    driver.execute_script(\"arguments[0].scrollIntoView();\", totalreach)\n",
    "    totalreach = totalreach.text\n",
    "    aboutTheAdervetiser =  WebDriverWait(driver, 10).until(EC.presence_of_element_located((By.XPATH, \"//div[@data-visualcompletion='ignore']//div//div[@role='dialog']//div[contains(text(),'About the advertiser')]\")))\n",
    "    driver.execute_script(\"arguments[0].scrollIntoView();\", aboutTheAdervetiser)\n",
    "    aboutTheAdervetiser.click()\n",
    "\n",
    "    pageProfileUrl = WebDriverWait(driver, 10).until(EC.presence_of_element_located((By.XPATH,\"*//div[@data-visualcompletion='ignore']//div//div[@role='dialog']//div[contains(text(), 'ID')]\" ))).text\n",
    "    pageProfileUrl = \"https://www.facebook.com/\"+pageProfileUrl.split(\":\")[1].strip()\n",
    "    currentpageLike, followers , pageName =  get_like_follow(pageProfileUrl)\n",
    "    try:\n",
    "        dscription =  WebDriverWait(driver, 10).until(EC.presence_of_element_located((By.XPATH, \"//div[@data-visualcompletion='ignore']//div//div[@role='dialog']//div[@class='_7jyg _7jyi']//div[@class='_7jyr']\"))).text.strip()\n",
    "    except:\n",
    "        dscription = 'content blocked'\n",
    "\n",
    "    CallToActionButton = WebDriverWait(driver, 10).until(EC.presence_of_element_located((By.XPATH, \"(//div[@data-visualcompletion='ignore']//div//div[@role='dialog']//div[@style='grid-area: adCardColumn;']//div[@aria-busy='false'])[2]\")))\n",
    "    productUrl = WebDriverWait(driver, 10).until(EC.presence_of_element_located((By.XPATH, \"//div[@data-visualcompletion='ignore']//div//div[@role='dialog']//div[@style='grid-area: adCardColumn;']//div/a[@data-lynx-mode='hover']\"))).get_attribute(\"href\")\n",
    "    adict = {'adArchiveID':adArchiveID,'page_name': pageName  , 'adUrl':adUrl, 'ad_status_type':ad_status_type, 'start_date':start_date, 'end_date':end_date, 'numberOfActiveDay':numberOfActiveDay, 'totalreach':totalreach, 'pageProfileUrl':pageProfileUrl,'product_url': productUrl , 'currentpageLike':currentpageLike, 'followers':followers, 'dscription':dscription, 'CallToActionButton':CallToActionButton.text, 'duplicate':duplicate}\n",
    "    print(adict)\n",
    "    AddList.append(adict)\n",
    "    df = pd.DataFrame(AddList)\n",
    "    df.to_excel(\"output.xlsx\", index=False)\n",
    "    driver.find_element(By.XPATH, \"//body/div[@data-visualcompletion='ignore']/div/div[@data-visualcompletion='ignore']/div/div[@role='dialog']/div/div/div/div/span/div[1]\").click()\n",
    "\n",
    "\n",
    "\n",
    "\n",
    "    \n"
   ]
  },
  {
   "cell_type": "code",
   "execution_count": 12,
   "metadata": {},
   "outputs": [],
   "source": [
    "driver.close()\n",
    "driver.switch_to.window(driver.window_handles[0])"
   ]
  },
  {
   "cell_type": "code",
   "execution_count": 26,
   "metadata": {},
   "outputs": [],
   "source": [
    "def get_like_follow(pageProfileUrl):\n",
    "    original_window = driver.window_handles[0]\n",
    "    driver.switch_to.new_window('tab')\n",
    "    driver.get(pageProfileUrl)\n",
    "    randDealy(3, 5)\n",
    "    driver.find_element(By.XPATH, \"//div[@aria-label='Close']//i[@data-visualcompletion='css-img']\").click()\n",
    "    likes_element = driver.find_element(By.XPATH ,\"//a[contains(@href, 'friends_likes')]\")\n",
    "    likes = likes_element.text\n",
    "    followers = driver.find_element(By.XPATH ,\"//a[contains(@href, 'followers')]\").text.replace(\"followers\", \"\").strip()\n",
    "    pageName  =  driver.find_element(By.XPATH, \"*//span//h1\").text.strip()\n",
    "    driver.close()\n",
    "    driver.switch_to.window(original_window)\n",
    "    return likes, followers , pageName"
   ]
  },
  {
   "cell_type": "code",
   "execution_count": 21,
   "metadata": {},
   "outputs": [],
   "source": [
    "pageProfileUrl = WebDriverWait(driver, 10).until(EC.presence_of_element_located((By.XPATH,\"*//div[@data-visualcompletion='ignore']//div//div[@role='dialog']//div[contains(text(), 'ID')]\" ))).text\n",
    "pageProfileUrl = \"https://www.facebook.com/\"+pageProfileUrl.split(\":\")[1].strip()"
   ]
  },
  {
   "cell_type": "code",
   "execution_count": 22,
   "metadata": {},
   "outputs": [
    {
     "data": {
      "text/plain": [
       "('3.2K likes', '3.2K', 'zamzie.com')"
      ]
     },
     "execution_count": 22,
     "metadata": {},
     "output_type": "execute_result"
    }
   ],
   "source": [
    "get_like_follow(pageProfileUrl)"
   ]
  },
  {
   "cell_type": "code",
   "execution_count": 6,
   "metadata": {},
   "outputs": [],
   "source": [
    "def scrollpage():\n",
    "    driver.execute_script(\"window.scrollTo(0, document.body.scrollHeight);\")"
   ]
  },
  {
   "cell_type": "code",
   "execution_count": 30,
   "metadata": {},
   "outputs": [],
   "source": [
    "driver.execute_script(\"window.scrollTo(0, document.body.scrollHeight);\")"
   ]
  },
  {
   "cell_type": "code",
   "execution_count": 77,
   "metadata": {},
   "outputs": [],
   "source": []
  },
  {
   "cell_type": "code",
   "execution_count": 78,
   "metadata": {},
   "outputs": [
    {
     "name": "stdout",
     "output_type": "stream",
     "text": [
      "3.2K\n"
     ]
    }
   ],
   "source": []
  },
  {
   "cell_type": "code",
   "execution_count": 15,
   "metadata": {},
   "outputs": [],
   "source": [
    "   productUrl = WebDriverWait(driver, 10).until(EC.presence_of_element_located((By.XPATH, \"//div[@data-visualcompletion='ignore']//div//div[@role='dialog']//div[@style='grid-area: adCardColumn;']//div/a[@data-lynx-mode='hover']\"))).get_attribute(\"href\")"
   ]
  },
  {
   "cell_type": "code",
   "execution_count": 16,
   "metadata": {},
   "outputs": [
    {
     "name": "stdout",
     "output_type": "stream",
     "text": [
      "https://zamzie.com/products/celyn-wallen-creme-1-1-gratis\n"
     ]
    }
   ],
   "source": [
    "print(productUrl)"
   ]
  },
  {
   "cell_type": "code",
   "execution_count": null,
   "metadata": {},
   "outputs": [],
   "source": []
  },
  {
   "cell_type": "code",
   "execution_count": null,
   "metadata": {},
   "outputs": [],
   "source": []
  },
  {
   "cell_type": "code",
   "execution_count": 133,
   "metadata": {},
   "outputs": [],
   "source": []
  },
  {
   "cell_type": "code",
   "execution_count": 104,
   "metadata": {},
   "outputs": [],
   "source": []
  },
  {
   "cell_type": "code",
   "execution_count": 135,
   "metadata": {},
   "outputs": [
    {
     "name": "stdout",
     "output_type": "stream",
     "text": [
      "28\n"
     ]
    }
   ],
   "source": []
  },
  {
   "cell_type": "code",
   "execution_count": 3,
   "metadata": {},
   "outputs": [],
   "source": []
  },
  {
   "cell_type": "code",
   "execution_count": null,
   "metadata": {},
   "outputs": [],
   "source": []
  },
  {
   "cell_type": "code",
   "execution_count": 1,
   "metadata": {},
   "outputs": [
    {
     "name": "stdout",
     "output_type": "stream",
     "text": [
      "None\n"
     ]
    }
   ],
   "source": []
  },
  {
   "cell_type": "code",
   "execution_count": null,
   "metadata": {},
   "outputs": [],
   "source": []
  },
  {
   "cell_type": "code",
   "execution_count": null,
   "metadata": {},
   "outputs": [],
   "source": []
  },
  {
   "cell_type": "code",
   "execution_count": null,
   "metadata": {},
   "outputs": [],
   "source": [
    "\n",
    "query = \"zamzie\"\n",
    "active_status = \"all\"\n",
    "countary = \"NL\"\n",
    "media_type = \"all\"\n",
    "url = f\"https://www.facebook.com/ads/library/?active_status={query}&ad_type=all&country={countary}&q={query}&search_type=keyword_unordered&media_type={media_type}\"\n",
    "\n",
    "driver.get(url)"
   ]
  },
  {
   "cell_type": "code",
   "execution_count": null,
   "metadata": {},
   "outputs": [],
   "source": []
  },
  {
   "cell_type": "code",
   "execution_count": 1,
   "metadata": {},
   "outputs": [],
   "source": []
  },
  {
   "cell_type": "code",
   "execution_count": 51,
   "metadata": {},
   "outputs": [],
   "source": []
  },
  {
   "cell_type": "code",
   "execution_count": 15,
   "metadata": {},
   "outputs": [
    {
     "name": "stdout",
     "output_type": "stream",
     "text": [
      "45\n",
      "90\n",
      "135\n"
     ]
    }
   ],
   "source": []
  },
  {
   "cell_type": "code",
   "execution_count": 16,
   "metadata": {},
   "outputs": [
    {
     "name": "stdout",
     "output_type": "stream",
     "text": [
      "3\n"
     ]
    }
   ],
   "source": [
    "print(len(DataList))"
   ]
  },
  {
   "cell_type": "code",
   "execution_count": 52,
   "metadata": {},
   "outputs": [],
   "source": []
  },
  {
   "cell_type": "code",
   "execution_count": 53,
   "metadata": {},
   "outputs": [],
   "source": [
    "df = pd.DataFrame(result)"
   ]
  },
  {
   "cell_type": "code",
   "execution_count": 54,
   "metadata": {},
   "outputs": [],
   "source": [
    "df.to_excel('hubSpotData.xlsx', index=False)"
   ]
  },
  {
   "cell_type": "code",
   "execution_count": 50,
   "metadata": {},
   "outputs": [
    {
     "data": {
      "text/html": [
       "<div>\n",
       "<style scoped>\n",
       "    .dataframe tbody tr th:only-of-type {\n",
       "        vertical-align: middle;\n",
       "    }\n",
       "\n",
       "    .dataframe tbody tr th {\n",
       "        vertical-align: top;\n",
       "    }\n",
       "\n",
       "    .dataframe thead th {\n",
       "        text-align: right;\n",
       "    }\n",
       "</style>\n",
       "<table border=\"1\" class=\"dataframe\">\n",
       "  <thead>\n",
       "    <tr style=\"text-align: right;\">\n",
       "      <th></th>\n",
       "      <th>name</th>\n",
       "      <th>description</th>\n",
       "      <th>overallRating</th>\n",
       "      <th>reviewCount</th>\n",
       "      <th>overallAdjustedRating</th>\n",
       "      <th>website</th>\n",
       "      <th>full</th>\n",
       "      <th>zip</th>\n",
       "      <th>countary</th>\n",
       "      <th>locality</th>\n",
       "      <th>street1</th>\n",
       "      <th>street2</th>\n",
       "    </tr>\n",
       "  </thead>\n",
       "  <tbody>\n",
       "    <tr>\n",
       "      <th>0</th>\n",
       "      <td>Zenzero</td>\n",
       "      <td>At Zenzero we are all about providing more tha...</td>\n",
       "      <td>5.000000</td>\n",
       "      <td>1</td>\n",
       "      <td>4.047619</td>\n",
       "      <td>https://zenzero.co.uk</td>\n",
       "      <td>Innovation Centre, Warwick Technology Park, Ga...</td>\n",
       "      <td>CV34 6UW</td>\n",
       "      <td>GB</td>\n",
       "      <td>Warwick</td>\n",
       "      <td></td>\n",
       "      <td></td>\n",
       "    </tr>\n",
       "    <tr>\n",
       "      <th>1</th>\n",
       "      <td>Zenzero</td>\n",
       "      <td>At Zenzero we are all about providing more tha...</td>\n",
       "      <td>4.966667</td>\n",
       "      <td>150</td>\n",
       "      <td>4.852941</td>\n",
       "      <td>https://zenzero.co.uk</td>\n",
       "      <td>Innovation Centre, Warwick Technology Park, Ga...</td>\n",
       "      <td>CV34 6UW</td>\n",
       "      <td>GB</td>\n",
       "      <td>Warwick</td>\n",
       "      <td></td>\n",
       "      <td></td>\n",
       "    </tr>\n",
       "    <tr>\n",
       "      <th>2</th>\n",
       "      <td>Zenzero</td>\n",
       "      <td>At Zenzero we are all about providing more tha...</td>\n",
       "      <td>5.000000</td>\n",
       "      <td>34</td>\n",
       "      <td>4.629630</td>\n",
       "      <td>https://zenzero.co.uk</td>\n",
       "      <td>Innovation Centre, Warwick Technology Park, Ga...</td>\n",
       "      <td>CV34 6UW</td>\n",
       "      <td>GB</td>\n",
       "      <td>Warwick</td>\n",
       "      <td></td>\n",
       "      <td></td>\n",
       "    </tr>\n",
       "    <tr>\n",
       "      <th>3</th>\n",
       "      <td>Zenzero</td>\n",
       "      <td>At Zenzero we are all about providing more tha...</td>\n",
       "      <td>5.000000</td>\n",
       "      <td>13</td>\n",
       "      <td>4.393940</td>\n",
       "      <td>https://zenzero.co.uk</td>\n",
       "      <td>Innovation Centre, Warwick Technology Park, Ga...</td>\n",
       "      <td>CV34 6UW</td>\n",
       "      <td>GB</td>\n",
       "      <td>Warwick</td>\n",
       "      <td></td>\n",
       "      <td></td>\n",
       "    </tr>\n",
       "    <tr>\n",
       "      <th>4</th>\n",
       "      <td>Zenzero</td>\n",
       "      <td>At Zenzero we are all about providing more tha...</td>\n",
       "      <td>5.000000</td>\n",
       "      <td>3</td>\n",
       "      <td>4.130435</td>\n",
       "      <td>https://zenzero.co.uk</td>\n",
       "      <td>Innovation Centre, Warwick Technology Park, Ga...</td>\n",
       "      <td>CV34 6UW</td>\n",
       "      <td>GB</td>\n",
       "      <td>Warwick</td>\n",
       "      <td></td>\n",
       "      <td></td>\n",
       "    </tr>\n",
       "    <tr>\n",
       "      <th>...</th>\n",
       "      <td>...</td>\n",
       "      <td>...</td>\n",
       "      <td>...</td>\n",
       "      <td>...</td>\n",
       "      <td>...</td>\n",
       "      <td>...</td>\n",
       "      <td>...</td>\n",
       "      <td>...</td>\n",
       "      <td>...</td>\n",
       "      <td>...</td>\n",
       "      <td>...</td>\n",
       "      <td>...</td>\n",
       "    </tr>\n",
       "    <tr>\n",
       "      <th>86</th>\n",
       "      <td>Zenzero</td>\n",
       "      <td>At Zenzero we are all about providing more tha...</td>\n",
       "      <td>0.000000</td>\n",
       "      <td>0</td>\n",
       "      <td>NaN</td>\n",
       "      <td>https://zenzero.co.uk</td>\n",
       "      <td>Innovation Centre, Warwick Technology Park, Ga...</td>\n",
       "      <td>CV34 6UW</td>\n",
       "      <td>GB</td>\n",
       "      <td>Warwick</td>\n",
       "      <td></td>\n",
       "      <td></td>\n",
       "    </tr>\n",
       "    <tr>\n",
       "      <th>87</th>\n",
       "      <td>Zenzero</td>\n",
       "      <td>At Zenzero we are all about providing more tha...</td>\n",
       "      <td>4.971428</td>\n",
       "      <td>35</td>\n",
       "      <td>4.618182</td>\n",
       "      <td>https://zenzero.co.uk</td>\n",
       "      <td>Innovation Centre, Warwick Technology Park, Ga...</td>\n",
       "      <td>CV34 6UW</td>\n",
       "      <td>GB</td>\n",
       "      <td>Warwick</td>\n",
       "      <td></td>\n",
       "      <td></td>\n",
       "    </tr>\n",
       "    <tr>\n",
       "      <th>88</th>\n",
       "      <td>Zenzero</td>\n",
       "      <td>At Zenzero we are all about providing more tha...</td>\n",
       "      <td>0.000000</td>\n",
       "      <td>0</td>\n",
       "      <td>NaN</td>\n",
       "      <td>https://zenzero.co.uk</td>\n",
       "      <td>Innovation Centre, Warwick Technology Park, Ga...</td>\n",
       "      <td>CV34 6UW</td>\n",
       "      <td>GB</td>\n",
       "      <td>Warwick</td>\n",
       "      <td></td>\n",
       "      <td></td>\n",
       "    </tr>\n",
       "    <tr>\n",
       "      <th>89</th>\n",
       "      <td>Zenzero</td>\n",
       "      <td>At Zenzero we are all about providing more tha...</td>\n",
       "      <td>0.000000</td>\n",
       "      <td>0</td>\n",
       "      <td>NaN</td>\n",
       "      <td>https://zenzero.co.uk</td>\n",
       "      <td>Innovation Centre, Warwick Technology Park, Ga...</td>\n",
       "      <td>CV34 6UW</td>\n",
       "      <td>GB</td>\n",
       "      <td>Warwick</td>\n",
       "      <td></td>\n",
       "      <td></td>\n",
       "    </tr>\n",
       "    <tr>\n",
       "      <th>90</th>\n",
       "      <td>Zenzero</td>\n",
       "      <td>At Zenzero we are all about providing more tha...</td>\n",
       "      <td>0.000000</td>\n",
       "      <td>0</td>\n",
       "      <td>NaN</td>\n",
       "      <td>https://zenzero.co.uk</td>\n",
       "      <td>Innovation Centre, Warwick Technology Park, Ga...</td>\n",
       "      <td>CV34 6UW</td>\n",
       "      <td>GB</td>\n",
       "      <td>Warwick</td>\n",
       "      <td></td>\n",
       "      <td></td>\n",
       "    </tr>\n",
       "  </tbody>\n",
       "</table>\n",
       "<p>91 rows × 12 columns</p>\n",
       "</div>"
      ],
      "text/plain": [
       "       name                                        description  overallRating  \\\n",
       "0   Zenzero  At Zenzero we are all about providing more tha...       5.000000   \n",
       "1   Zenzero  At Zenzero we are all about providing more tha...       4.966667   \n",
       "2   Zenzero  At Zenzero we are all about providing more tha...       5.000000   \n",
       "3   Zenzero  At Zenzero we are all about providing more tha...       5.000000   \n",
       "4   Zenzero  At Zenzero we are all about providing more tha...       5.000000   \n",
       "..      ...                                                ...            ...   \n",
       "86  Zenzero  At Zenzero we are all about providing more tha...       0.000000   \n",
       "87  Zenzero  At Zenzero we are all about providing more tha...       4.971428   \n",
       "88  Zenzero  At Zenzero we are all about providing more tha...       0.000000   \n",
       "89  Zenzero  At Zenzero we are all about providing more tha...       0.000000   \n",
       "90  Zenzero  At Zenzero we are all about providing more tha...       0.000000   \n",
       "\n",
       "    reviewCount  overallAdjustedRating                website  \\\n",
       "0             1               4.047619  https://zenzero.co.uk   \n",
       "1           150               4.852941  https://zenzero.co.uk   \n",
       "2            34               4.629630  https://zenzero.co.uk   \n",
       "3            13               4.393940  https://zenzero.co.uk   \n",
       "4             3               4.130435  https://zenzero.co.uk   \n",
       "..          ...                    ...                    ...   \n",
       "86            0                    NaN  https://zenzero.co.uk   \n",
       "87           35               4.618182  https://zenzero.co.uk   \n",
       "88            0                    NaN  https://zenzero.co.uk   \n",
       "89            0                    NaN  https://zenzero.co.uk   \n",
       "90            0                    NaN  https://zenzero.co.uk   \n",
       "\n",
       "                                                 full       zip countary  \\\n",
       "0   Innovation Centre, Warwick Technology Park, Ga...  CV34 6UW       GB   \n",
       "1   Innovation Centre, Warwick Technology Park, Ga...  CV34 6UW       GB   \n",
       "2   Innovation Centre, Warwick Technology Park, Ga...  CV34 6UW       GB   \n",
       "3   Innovation Centre, Warwick Technology Park, Ga...  CV34 6UW       GB   \n",
       "4   Innovation Centre, Warwick Technology Park, Ga...  CV34 6UW       GB   \n",
       "..                                                ...       ...      ...   \n",
       "86  Innovation Centre, Warwick Technology Park, Ga...  CV34 6UW       GB   \n",
       "87  Innovation Centre, Warwick Technology Park, Ga...  CV34 6UW       GB   \n",
       "88  Innovation Centre, Warwick Technology Park, Ga...  CV34 6UW       GB   \n",
       "89  Innovation Centre, Warwick Technology Park, Ga...  CV34 6UW       GB   \n",
       "90  Innovation Centre, Warwick Technology Park, Ga...  CV34 6UW       GB   \n",
       "\n",
       "   locality street1 street2  \n",
       "0   Warwick                  \n",
       "1   Warwick                  \n",
       "2   Warwick                  \n",
       "3   Warwick                  \n",
       "4   Warwick                  \n",
       "..      ...     ...     ...  \n",
       "86  Warwick                  \n",
       "87  Warwick                  \n",
       "88  Warwick                  \n",
       "89  Warwick                  \n",
       "90  Warwick                  \n",
       "\n",
       "[91 rows x 12 columns]"
      ]
     },
     "execution_count": 50,
     "metadata": {},
     "output_type": "execute_result"
    }
   ],
   "source": [
    "df"
   ]
  },
  {
   "cell_type": "code",
   "execution_count": null,
   "metadata": {},
   "outputs": [],
   "source": []
  }
 ],
 "metadata": {
  "kernelspec": {
   "display_name": "Python 3",
   "language": "python",
   "name": "python3"
  },
  "language_info": {
   "codemirror_mode": {
    "name": "ipython",
    "version": 3
   },
   "file_extension": ".py",
   "mimetype": "text/x-python",
   "name": "python",
   "nbconvert_exporter": "python",
   "pygments_lexer": "ipython3",
   "version": "3.12.2"
  }
 },
 "nbformat": 4,
 "nbformat_minor": 2
}
