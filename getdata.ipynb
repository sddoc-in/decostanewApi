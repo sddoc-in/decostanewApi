{
 "cells": [
  {
   "cell_type": "code",
   "execution_count": 65,
   "metadata": {},
   "outputs": [],
   "source": [
    "from selenium import webdriver\n",
    "from selenium.webdriver.common.keys import Keys\n",
    "from selenium.webdriver.common.by import By\n",
    "from selenium.webdriver.chrome.options import Options\n",
    "from selenium.webdriver.support.ui import WebDriverWait\n",
    "from selenium.webdriver.support import expected_conditions as EC\n",
    "options = Options()\n",
    "\n",
    "options.add_argument(\"--disable-gpu\")\n",
    "options.add_argument(\"--no-sandbox\")\n",
    "options.add_argument(\"--disable-dev-shm-usage\")\n",
    "options.add_argument(\"--disable-extensions\")\n",
    "options.add_argument(\"--disable-software-rasterizer\")\n",
    "# Enable automation features to make the browser look more like a real user\n",
    "options.add_experimental_option('excludeSwitches', ['enable-automation'])\n",
    "options.add_experimental_option('useAutomationExtension', False)\n",
    "options.add_argument(\"--disable-blink-features=AutomationControlled\")\n",
    "driver = webdriver.Chrome(options=options)\n",
    "       "
   ]
  },
  {
   "cell_type": "code",
   "execution_count": 34,
   "metadata": {},
   "outputs": [],
   "source": [
    "from datetime import datetime"
   ]
  },
  {
   "cell_type": "code",
   "execution_count": 66,
   "metadata": {},
   "outputs": [],
   "source": [
    "\n",
    "query = \"zamzie\"\n",
    "active_status = \"all\"\n",
    "countary = \"NL\"\n",
    "media_type = \"all\"\n",
    "url = f\"https://www.facebook.com/ads/library/?active_status={query}&ad_type=all&country={countary}&q={query}&search_type=keyword_unordered&media_type={media_type}\"\n",
    "\n",
    "driver.get(url)"
   ]
  },
  {
   "cell_type": "code",
   "execution_count": 67,
   "metadata": {},
   "outputs": [],
   "source": [
    "allads = driver.find_elements(By.XPATH, \"//div[contains(text(), 'details')]\")"
   ]
  },
  {
   "cell_type": "code",
   "execution_count": 68,
   "metadata": {},
   "outputs": [],
   "source": [
    "allads[2].click()\n"
   ]
  },
  {
   "cell_type": "code",
   "execution_count": 19,
   "metadata": {},
   "outputs": [],
   "source": [
    "cardXpath = \"//body/div[@data-visualcompletion='ignore']/div/div[@data-visualcompletion='ignore']/div/div[@role='dialog']\"\n",
    "# //div[@data-visualcompletion='ignore']//div//div[@role='dialog']\n",
    "\n",
    "card = driver.find_element(By.XPATH, cardXpath)\n",
    "\n"
   ]
  },
  {
   "cell_type": "code",
   "execution_count": 35,
   "metadata": {},
   "outputs": [],
   "source": []
  },
  {
   "cell_type": "code",
   "execution_count": 70,
   "metadata": {},
   "outputs": [
    {
     "name": "stdout",
     "output_type": "stream",
     "text": [
      "239\n",
      "441283901718356\n",
      "https://www.facebook.com/ads/library/?id=441283901718356\n",
      "Inactive\n",
      "2024-04-24 00:00:00\n",
      "2024-04-25 00:00:00\n",
      "1\n",
      "This ad has multiple versions\n"
     ]
    }
   ],
   "source": [
    "ad_details = driver.find_elements(By.XPATH, \"//div[@data-visualcompletion='ignore']//div//div[@role='dialog']//div[@class='x3nfvp2 x1e56ztr']\")\n",
    "adArchiveID  = ad_details[0].text.split(\":\")[1].strip()\n",
    "adUrl = f\"https://www.facebook.com/ads/library/?id={adArchiveID}\"\n",
    "ad_status_type = ad_details[1].text\n",
    "duplicate = ad_details[4].text\n",
    "if \"inactive\" in ad_status_type.lower():\n",
    "    date_range = ad_details[2].text\n",
    "    start_date_str, end_date_str = date_range.split('-')\n",
    "    \n",
    "    start_date = datetime.strptime(start_date_str.strip(), \"%d %b %Y\")\n",
    "    end_date = datetime.strptime(end_date_str.strip(), \"%d %b %Y\")\n",
    "else:\n",
    "    start_date = ad_details[2].text\n",
    "    start_date  = \" \".join(start_date .split()[3:])  # Extract the date part from the string\n",
    "    start_date  = datetime.strptime(start_date ,\"%d %b %Y\")  # Parse the date\n",
    "    end_date = None\n",
    "\n",
    "if end_date is not None:\n",
    "    numberOfActiveDay = (end_date - start_date).days\n",
    "else:\n",
    "    numberOfActiveDay = (datetime.now() - start_date).days\n",
    "driver.find_element(By.XPATH, \"//div[@data-visualcompletion='ignore']//div//div[@role='dialog']//div[contains(text(),'European Union transparency')]\").click()\n",
    "totalreach = driver.find_element(By.XPATH, \"(//div[@class='x8t9es0 x10d9sdx xo1l8bm xrohxju x108nfp6 xq9mrsl x1h4wwuj xeuugli'])[3]\").text.strip()\n",
    "\n",
    "pageProfileUrl = driver.find_element(By.XPATH, \"//div[contains(text(), 'ID')]\").text\n",
    "pageProfileUrl = \"https://www.facebook.com/\"+pageProfileUrl.split(\":\")[1].strip()\n",
    "currentpageLike, followers , pageName =  get_like_follow(pageProfileUrl)\n",
    "print(totalreach)\n",
    "print(adArchiveID)\n",
    "print(adUrl)\n",
    "print(ad_status_type)\n",
    "print(start_date)\n",
    "print(end_date)\n",
    "print(numberOfActiveDay)\n",
    "print(duplicate)\n",
    "print(pageProfileUrl)\n",
    "print(currentpageLike)\n",
    "print(followers)\n",
    "\n",
    "\n"
   ]
  },
  {
   "cell_type": "code",
   "execution_count": 59,
   "metadata": {},
   "outputs": [
    {
     "name": "stdout",
     "output_type": "stream",
     "text": [
      "https://www.facebook.com/109048418284827\n"
     ]
    }
   ],
   "source": [
    "\n"
   ]
  },
  {
   "cell_type": "code",
   "execution_count": 44,
   "metadata": {},
   "outputs": [],
   "source": [
    "\n",
    "CallToActionButton\n",
    "linkUrl \n",
    "description"
   ]
  },
  {
   "cell_type": "code",
   "execution_count": 84,
   "metadata": {},
   "outputs": [],
   "source": [
    "def get_like_follow(pagelink):\n",
    "    original_window = driver.window_handles[0]\n",
    "    driver.switch_to.new_window('tab')\n",
    "    driver.get(pageProfileUrl)\n",
    "    driver.find_element(By.XPATH, \"//div[@aria-label='Close']//i[@data-visualcompletion='css-img']\").click()\n",
    "    likes_element = driver.find_element(By.XPATH ,\"//a[contains(@href, 'friends_likes')]\")\n",
    "    likes = likes_element.text\n",
    "    followers = driver.find_element(By.XPATH ,\"//a[contains(@href, 'followers')]\").text.replace(\"followers\", \"\").strip()\n",
    "    pageName  =  driver.find_element(By.XPATH, \"*//span//h1\").text.strip()\n",
    "    driver.close()\n",
    "    driver.switch_to.window(original_window)\n",
    "    return likes, followers , pageName"
   ]
  },
  {
   "cell_type": "code",
   "execution_count": 81,
   "metadata": {},
   "outputs": [],
   "source": []
  },
  {
   "cell_type": "code",
   "execution_count": 83,
   "metadata": {},
   "outputs": [],
   "source": []
  },
  {
   "cell_type": "code",
   "execution_count": 75,
   "metadata": {},
   "outputs": [],
   "source": []
  },
  {
   "cell_type": "code",
   "execution_count": 77,
   "metadata": {},
   "outputs": [],
   "source": [
    "likes = likes.replace(\" likes\", \"\")"
   ]
  },
  {
   "cell_type": "code",
   "execution_count": 78,
   "metadata": {},
   "outputs": [
    {
     "name": "stdout",
     "output_type": "stream",
     "text": [
      "3.2K\n"
     ]
    }
   ],
   "source": [
    "print(likes)"
   ]
  },
  {
   "cell_type": "code",
   "execution_count": null,
   "metadata": {},
   "outputs": [],
   "source": []
  },
  {
   "cell_type": "code",
   "execution_count": null,
   "metadata": {},
   "outputs": [],
   "source": []
  },
  {
   "cell_type": "code",
   "execution_count": null,
   "metadata": {},
   "outputs": [],
   "source": []
  },
  {
   "cell_type": "code",
   "execution_count": null,
   "metadata": {},
   "outputs": [],
   "source": []
  },
  {
   "cell_type": "code",
   "execution_count": 133,
   "metadata": {},
   "outputs": [],
   "source": []
  },
  {
   "cell_type": "code",
   "execution_count": 104,
   "metadata": {},
   "outputs": [],
   "source": []
  },
  {
   "cell_type": "code",
   "execution_count": 135,
   "metadata": {},
   "outputs": [
    {
     "name": "stdout",
     "output_type": "stream",
     "text": [
      "28\n"
     ]
    }
   ],
   "source": []
  },
  {
   "cell_type": "code",
   "execution_count": 3,
   "metadata": {},
   "outputs": [],
   "source": []
  },
  {
   "cell_type": "code",
   "execution_count": null,
   "metadata": {},
   "outputs": [],
   "source": []
  },
  {
   "cell_type": "code",
   "execution_count": 4,
   "metadata": {},
   "outputs": [],
   "source": []
  },
  {
   "cell_type": "code",
   "execution_count": null,
   "metadata": {},
   "outputs": [],
   "source": []
  },
  {
   "cell_type": "code",
   "execution_count": null,
   "metadata": {},
   "outputs": [],
   "source": []
  },
  {
   "cell_type": "code",
   "execution_count": null,
   "metadata": {},
   "outputs": [],
   "source": []
  },
  {
   "cell_type": "code",
   "execution_count": null,
   "metadata": {},
   "outputs": [],
   "source": []
  },
  {
   "cell_type": "code",
   "execution_count": 1,
   "metadata": {},
   "outputs": [],
   "source": []
  },
  {
   "cell_type": "code",
   "execution_count": 51,
   "metadata": {},
   "outputs": [],
   "source": []
  },
  {
   "cell_type": "code",
   "execution_count": 15,
   "metadata": {},
   "outputs": [
    {
     "name": "stdout",
     "output_type": "stream",
     "text": [
      "45\n",
      "90\n",
      "135\n"
     ]
    }
   ],
   "source": []
  },
  {
   "cell_type": "code",
   "execution_count": 16,
   "metadata": {},
   "outputs": [
    {
     "name": "stdout",
     "output_type": "stream",
     "text": [
      "3\n"
     ]
    }
   ],
   "source": [
    "print(len(DataList))"
   ]
  },
  {
   "cell_type": "code",
   "execution_count": 52,
   "metadata": {},
   "outputs": [],
   "source": []
  },
  {
   "cell_type": "code",
   "execution_count": 53,
   "metadata": {},
   "outputs": [],
   "source": [
    "df = pd.DataFrame(result)"
   ]
  },
  {
   "cell_type": "code",
   "execution_count": 54,
   "metadata": {},
   "outputs": [],
   "source": [
    "df.to_excel('hubSpotData.xlsx', index=False)"
   ]
  },
  {
   "cell_type": "code",
   "execution_count": 50,
   "metadata": {},
   "outputs": [
    {
     "data": {
      "text/html": [
       "<div>\n",
       "<style scoped>\n",
       "    .dataframe tbody tr th:only-of-type {\n",
       "        vertical-align: middle;\n",
       "    }\n",
       "\n",
       "    .dataframe tbody tr th {\n",
       "        vertical-align: top;\n",
       "    }\n",
       "\n",
       "    .dataframe thead th {\n",
       "        text-align: right;\n",
       "    }\n",
       "</style>\n",
       "<table border=\"1\" class=\"dataframe\">\n",
       "  <thead>\n",
       "    <tr style=\"text-align: right;\">\n",
       "      <th></th>\n",
       "      <th>name</th>\n",
       "      <th>description</th>\n",
       "      <th>overallRating</th>\n",
       "      <th>reviewCount</th>\n",
       "      <th>overallAdjustedRating</th>\n",
       "      <th>website</th>\n",
       "      <th>full</th>\n",
       "      <th>zip</th>\n",
       "      <th>countary</th>\n",
       "      <th>locality</th>\n",
       "      <th>street1</th>\n",
       "      <th>street2</th>\n",
       "    </tr>\n",
       "  </thead>\n",
       "  <tbody>\n",
       "    <tr>\n",
       "      <th>0</th>\n",
       "      <td>Zenzero</td>\n",
       "      <td>At Zenzero we are all about providing more tha...</td>\n",
       "      <td>5.000000</td>\n",
       "      <td>1</td>\n",
       "      <td>4.047619</td>\n",
       "      <td>https://zenzero.co.uk</td>\n",
       "      <td>Innovation Centre, Warwick Technology Park, Ga...</td>\n",
       "      <td>CV34 6UW</td>\n",
       "      <td>GB</td>\n",
       "      <td>Warwick</td>\n",
       "      <td></td>\n",
       "      <td></td>\n",
       "    </tr>\n",
       "    <tr>\n",
       "      <th>1</th>\n",
       "      <td>Zenzero</td>\n",
       "      <td>At Zenzero we are all about providing more tha...</td>\n",
       "      <td>4.966667</td>\n",
       "      <td>150</td>\n",
       "      <td>4.852941</td>\n",
       "      <td>https://zenzero.co.uk</td>\n",
       "      <td>Innovation Centre, Warwick Technology Park, Ga...</td>\n",
       "      <td>CV34 6UW</td>\n",
       "      <td>GB</td>\n",
       "      <td>Warwick</td>\n",
       "      <td></td>\n",
       "      <td></td>\n",
       "    </tr>\n",
       "    <tr>\n",
       "      <th>2</th>\n",
       "      <td>Zenzero</td>\n",
       "      <td>At Zenzero we are all about providing more tha...</td>\n",
       "      <td>5.000000</td>\n",
       "      <td>34</td>\n",
       "      <td>4.629630</td>\n",
       "      <td>https://zenzero.co.uk</td>\n",
       "      <td>Innovation Centre, Warwick Technology Park, Ga...</td>\n",
       "      <td>CV34 6UW</td>\n",
       "      <td>GB</td>\n",
       "      <td>Warwick</td>\n",
       "      <td></td>\n",
       "      <td></td>\n",
       "    </tr>\n",
       "    <tr>\n",
       "      <th>3</th>\n",
       "      <td>Zenzero</td>\n",
       "      <td>At Zenzero we are all about providing more tha...</td>\n",
       "      <td>5.000000</td>\n",
       "      <td>13</td>\n",
       "      <td>4.393940</td>\n",
       "      <td>https://zenzero.co.uk</td>\n",
       "      <td>Innovation Centre, Warwick Technology Park, Ga...</td>\n",
       "      <td>CV34 6UW</td>\n",
       "      <td>GB</td>\n",
       "      <td>Warwick</td>\n",
       "      <td></td>\n",
       "      <td></td>\n",
       "    </tr>\n",
       "    <tr>\n",
       "      <th>4</th>\n",
       "      <td>Zenzero</td>\n",
       "      <td>At Zenzero we are all about providing more tha...</td>\n",
       "      <td>5.000000</td>\n",
       "      <td>3</td>\n",
       "      <td>4.130435</td>\n",
       "      <td>https://zenzero.co.uk</td>\n",
       "      <td>Innovation Centre, Warwick Technology Park, Ga...</td>\n",
       "      <td>CV34 6UW</td>\n",
       "      <td>GB</td>\n",
       "      <td>Warwick</td>\n",
       "      <td></td>\n",
       "      <td></td>\n",
       "    </tr>\n",
       "    <tr>\n",
       "      <th>...</th>\n",
       "      <td>...</td>\n",
       "      <td>...</td>\n",
       "      <td>...</td>\n",
       "      <td>...</td>\n",
       "      <td>...</td>\n",
       "      <td>...</td>\n",
       "      <td>...</td>\n",
       "      <td>...</td>\n",
       "      <td>...</td>\n",
       "      <td>...</td>\n",
       "      <td>...</td>\n",
       "      <td>...</td>\n",
       "    </tr>\n",
       "    <tr>\n",
       "      <th>86</th>\n",
       "      <td>Zenzero</td>\n",
       "      <td>At Zenzero we are all about providing more tha...</td>\n",
       "      <td>0.000000</td>\n",
       "      <td>0</td>\n",
       "      <td>NaN</td>\n",
       "      <td>https://zenzero.co.uk</td>\n",
       "      <td>Innovation Centre, Warwick Technology Park, Ga...</td>\n",
       "      <td>CV34 6UW</td>\n",
       "      <td>GB</td>\n",
       "      <td>Warwick</td>\n",
       "      <td></td>\n",
       "      <td></td>\n",
       "    </tr>\n",
       "    <tr>\n",
       "      <th>87</th>\n",
       "      <td>Zenzero</td>\n",
       "      <td>At Zenzero we are all about providing more tha...</td>\n",
       "      <td>4.971428</td>\n",
       "      <td>35</td>\n",
       "      <td>4.618182</td>\n",
       "      <td>https://zenzero.co.uk</td>\n",
       "      <td>Innovation Centre, Warwick Technology Park, Ga...</td>\n",
       "      <td>CV34 6UW</td>\n",
       "      <td>GB</td>\n",
       "      <td>Warwick</td>\n",
       "      <td></td>\n",
       "      <td></td>\n",
       "    </tr>\n",
       "    <tr>\n",
       "      <th>88</th>\n",
       "      <td>Zenzero</td>\n",
       "      <td>At Zenzero we are all about providing more tha...</td>\n",
       "      <td>0.000000</td>\n",
       "      <td>0</td>\n",
       "      <td>NaN</td>\n",
       "      <td>https://zenzero.co.uk</td>\n",
       "      <td>Innovation Centre, Warwick Technology Park, Ga...</td>\n",
       "      <td>CV34 6UW</td>\n",
       "      <td>GB</td>\n",
       "      <td>Warwick</td>\n",
       "      <td></td>\n",
       "      <td></td>\n",
       "    </tr>\n",
       "    <tr>\n",
       "      <th>89</th>\n",
       "      <td>Zenzero</td>\n",
       "      <td>At Zenzero we are all about providing more tha...</td>\n",
       "      <td>0.000000</td>\n",
       "      <td>0</td>\n",
       "      <td>NaN</td>\n",
       "      <td>https://zenzero.co.uk</td>\n",
       "      <td>Innovation Centre, Warwick Technology Park, Ga...</td>\n",
       "      <td>CV34 6UW</td>\n",
       "      <td>GB</td>\n",
       "      <td>Warwick</td>\n",
       "      <td></td>\n",
       "      <td></td>\n",
       "    </tr>\n",
       "    <tr>\n",
       "      <th>90</th>\n",
       "      <td>Zenzero</td>\n",
       "      <td>At Zenzero we are all about providing more tha...</td>\n",
       "      <td>0.000000</td>\n",
       "      <td>0</td>\n",
       "      <td>NaN</td>\n",
       "      <td>https://zenzero.co.uk</td>\n",
       "      <td>Innovation Centre, Warwick Technology Park, Ga...</td>\n",
       "      <td>CV34 6UW</td>\n",
       "      <td>GB</td>\n",
       "      <td>Warwick</td>\n",
       "      <td></td>\n",
       "      <td></td>\n",
       "    </tr>\n",
       "  </tbody>\n",
       "</table>\n",
       "<p>91 rows × 12 columns</p>\n",
       "</div>"
      ],
      "text/plain": [
       "       name                                        description  overallRating  \\\n",
       "0   Zenzero  At Zenzero we are all about providing more tha...       5.000000   \n",
       "1   Zenzero  At Zenzero we are all about providing more tha...       4.966667   \n",
       "2   Zenzero  At Zenzero we are all about providing more tha...       5.000000   \n",
       "3   Zenzero  At Zenzero we are all about providing more tha...       5.000000   \n",
       "4   Zenzero  At Zenzero we are all about providing more tha...       5.000000   \n",
       "..      ...                                                ...            ...   \n",
       "86  Zenzero  At Zenzero we are all about providing more tha...       0.000000   \n",
       "87  Zenzero  At Zenzero we are all about providing more tha...       4.971428   \n",
       "88  Zenzero  At Zenzero we are all about providing more tha...       0.000000   \n",
       "89  Zenzero  At Zenzero we are all about providing more tha...       0.000000   \n",
       "90  Zenzero  At Zenzero we are all about providing more tha...       0.000000   \n",
       "\n",
       "    reviewCount  overallAdjustedRating                website  \\\n",
       "0             1               4.047619  https://zenzero.co.uk   \n",
       "1           150               4.852941  https://zenzero.co.uk   \n",
       "2            34               4.629630  https://zenzero.co.uk   \n",
       "3            13               4.393940  https://zenzero.co.uk   \n",
       "4             3               4.130435  https://zenzero.co.uk   \n",
       "..          ...                    ...                    ...   \n",
       "86            0                    NaN  https://zenzero.co.uk   \n",
       "87           35               4.618182  https://zenzero.co.uk   \n",
       "88            0                    NaN  https://zenzero.co.uk   \n",
       "89            0                    NaN  https://zenzero.co.uk   \n",
       "90            0                    NaN  https://zenzero.co.uk   \n",
       "\n",
       "                                                 full       zip countary  \\\n",
       "0   Innovation Centre, Warwick Technology Park, Ga...  CV34 6UW       GB   \n",
       "1   Innovation Centre, Warwick Technology Park, Ga...  CV34 6UW       GB   \n",
       "2   Innovation Centre, Warwick Technology Park, Ga...  CV34 6UW       GB   \n",
       "3   Innovation Centre, Warwick Technology Park, Ga...  CV34 6UW       GB   \n",
       "4   Innovation Centre, Warwick Technology Park, Ga...  CV34 6UW       GB   \n",
       "..                                                ...       ...      ...   \n",
       "86  Innovation Centre, Warwick Technology Park, Ga...  CV34 6UW       GB   \n",
       "87  Innovation Centre, Warwick Technology Park, Ga...  CV34 6UW       GB   \n",
       "88  Innovation Centre, Warwick Technology Park, Ga...  CV34 6UW       GB   \n",
       "89  Innovation Centre, Warwick Technology Park, Ga...  CV34 6UW       GB   \n",
       "90  Innovation Centre, Warwick Technology Park, Ga...  CV34 6UW       GB   \n",
       "\n",
       "   locality street1 street2  \n",
       "0   Warwick                  \n",
       "1   Warwick                  \n",
       "2   Warwick                  \n",
       "3   Warwick                  \n",
       "4   Warwick                  \n",
       "..      ...     ...     ...  \n",
       "86  Warwick                  \n",
       "87  Warwick                  \n",
       "88  Warwick                  \n",
       "89  Warwick                  \n",
       "90  Warwick                  \n",
       "\n",
       "[91 rows x 12 columns]"
      ]
     },
     "execution_count": 50,
     "metadata": {},
     "output_type": "execute_result"
    }
   ],
   "source": [
    "df"
   ]
  },
  {
   "cell_type": "code",
   "execution_count": null,
   "metadata": {},
   "outputs": [],
   "source": []
  }
 ],
 "metadata": {
  "kernelspec": {
   "display_name": "Python 3",
   "language": "python",
   "name": "python3"
  },
  "language_info": {
   "codemirror_mode": {
    "name": "ipython",
    "version": 3
   },
   "file_extension": ".py",
   "mimetype": "text/x-python",
   "name": "python",
   "nbconvert_exporter": "python",
   "pygments_lexer": "ipython3",
   "version": "3.12.2"
  }
 },
 "nbformat": 4,
 "nbformat_minor": 2
}
